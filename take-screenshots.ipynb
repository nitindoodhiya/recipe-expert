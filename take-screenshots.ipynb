{
  "cells": [
    {
      "cell_type": "code",
      "execution_count": 2,
      "metadata": {
        "colab": {
          "base_uri": "https://localhost:8080/"
        },
        "id": "ypnXjBsWUbbM",
        "outputId": "ea777896-7889-443a-daa2-831eaa21a040"
      },
      "outputs": [
        {
          "name": "stdout",
          "output_type": "stream",
          "text": [
            "Defaulting to user installation because normal site-packages is not writeable\n",
            "Requirement already satisfied: yt-dlp in /home/iamgroot/.local/lib/python3.10/site-packages (2023.12.30)\n",
            "Requirement already satisfied: mutagen in /home/iamgroot/.local/lib/python3.10/site-packages (from yt-dlp) (1.47.0)\n",
            "Requirement already satisfied: requests<3,>=2.31.0 in /home/iamgroot/.local/lib/python3.10/site-packages (from yt-dlp) (2.31.0)\n",
            "Requirement already satisfied: websockets>=12.0 in /home/iamgroot/.local/lib/python3.10/site-packages (from yt-dlp) (12.0)\n",
            "Requirement already satisfied: pycryptodomex in /home/iamgroot/.local/lib/python3.10/site-packages (from yt-dlp) (3.20.0)\n",
            "Requirement already satisfied: urllib3<3,>=1.26.17 in /home/iamgroot/.local/lib/python3.10/site-packages (from yt-dlp) (2.1.0)\n",
            "Requirement already satisfied: brotli in /home/iamgroot/.local/lib/python3.10/site-packages (from yt-dlp) (1.1.0)\n",
            "Requirement already satisfied: certifi in /home/iamgroot/.local/lib/python3.10/site-packages (from yt-dlp) (2023.11.17)\n",
            "Requirement already satisfied: charset-normalizer<4,>=2 in /home/iamgroot/.local/lib/python3.10/site-packages (from requests<3,>=2.31.0->yt-dlp) (3.3.2)\n",
            "Requirement already satisfied: idna<4,>=2.5 in /home/iamgroot/.local/lib/python3.10/site-packages (from requests<3,>=2.31.0->yt-dlp) (3.6)\n"
          ]
        }
      ],
      "source": [
        "!pip install yt-dlp"
      ]
    },
    {
      "cell_type": "code",
      "execution_count": 3,
      "metadata": {
        "colab": {
          "base_uri": "https://localhost:8080/"
        },
        "id": "FslS5yMYU4dJ",
        "outputId": "0dffb98c-79a7-4222-ad1a-f65fa8d3e63c"
      },
      "outputs": [
        {
          "name": "stdout",
          "output_type": "stream",
          "text": [
            "Defaulting to user installation because normal site-packages is not writeable\n",
            "Collecting ffmpeg-python\n",
            "  Downloading ffmpeg_python-0.2.0-py3-none-any.whl (25 kB)\n",
            "Collecting future\n",
            "  Downloading future-0.18.3.tar.gz (840 kB)\n",
            "\u001b[2K     \u001b[90m━━━━━━━━━━━━━━━━━━━━━━━━━━━━━━━━━━━━━━━\u001b[0m \u001b[32m840.9/840.9 KB\u001b[0m \u001b[31m6.6 MB/s\u001b[0m eta \u001b[36m0:00:00\u001b[0ma \u001b[36m0:00:01\u001b[0m\n",
            "\u001b[?25h  Preparing metadata (setup.py) ... \u001b[?25ldone\n",
            "\u001b[?25hBuilding wheels for collected packages: future\n",
            "  Building wheel for future (setup.py) ... \u001b[?25ldone\n",
            "\u001b[?25h  Created wheel for future: filename=future-0.18.3-py3-none-any.whl size=492037 sha256=e3066e060d75f56158952771cb53a821da74740e79bfaa1e7b6904626f392ce9\n",
            "  Stored in directory: /home/iamgroot/.cache/pip/wheels/5e/a9/47/f118e66afd12240e4662752cc22cefae5d97275623aa8ef57d\n",
            "Successfully built future\n",
            "Installing collected packages: future, ffmpeg-python\n",
            "Successfully installed ffmpeg-python-0.2.0 future-0.18.3\n"
          ]
        }
      ],
      "source": [
        "!pip install ffmpeg-python"
      ]
    },
    {
      "cell_type": "code",
      "execution_count": 9,
      "metadata": {
        "colab": {
          "base_uri": "https://localhost:8080/"
        },
        "id": "9oY3mIJcVCqn",
        "outputId": "f55011ed-7813-4397-cc64-15bd19041a05"
      },
      "outputs": [
        {
          "name": "stdout",
          "output_type": "stream",
          "text": [
            "[youtube] Extracting URL: https://www.youtube.com/watch?v=ZgCCLQtdGG8\n",
            "[youtube] ZgCCLQtdGG8: Downloading webpage\n",
            "[youtube] ZgCCLQtdGG8: Downloading ios player API JSON\n",
            "[youtube] ZgCCLQtdGG8: Downloading android player API JSON\n",
            "[youtube] ZgCCLQtdGG8: Downloading m3u8 information\n",
            "[info] ZgCCLQtdGG8: Downloading 1 format(s): 247\n",
            "[download] Destination: video.mp4\n",
            "[download] 100% of   20.57MiB in 00:00:02 at 9.27MiB/s     \n"
          ]
        }
      ],
      "source": [
        "# prompt: download youtube video and make screenshots using ffmpeg with at 10 fps\n",
        "\n",
        "import yt_dlp\n",
        "\n",
        "ydl_opts = {\n",
        "    'format': 'bestvideo[height<=720]/best[height<=720]',\n",
        "    'outtmpl': 'video.'+ 'mp4',\n",
        "}\n",
        "\n",
        "with yt_dlp.YoutubeDL(ydl_opts) as ydl:\n",
        "    ydl.download(['https://www.youtube.com/watch?v=ZgCCLQtdGG8'])\n"
      ]
    },
    {
      "cell_type": "code",
      "execution_count": 5,
      "metadata": {
        "id": "EAduIfzxZtJt"
      },
      "outputs": [
        {
          "name": "stdout",
          "output_type": "stream",
          "text": [
            "mkdir: cannot create directory ‘screenshots’: File exists\n"
          ]
        }
      ],
      "source": [
        "mkdir screenshots"
      ]
    },
    {
      "cell_type": "code",
      "execution_count": 11,
      "metadata": {
        "colab": {
          "base_uri": "https://localhost:8080/"
        },
        "id": "CLglQPljZjad",
        "outputId": "2e21c4f5-75ef-459c-d86f-b660f83f39af"
      },
      "outputs": [
        {
          "name": "stdout",
          "output_type": "stream",
          "text": [
            "Hello\n"
          ]
        },
        {
          "name": "stderr",
          "output_type": "stream",
          "text": [
            "ffmpeg version 4.4.2-0ubuntu0.22.04.1 Copyright (c) 2000-2021 the FFmpeg developers\n",
            "  built with gcc 11 (Ubuntu 11.2.0-19ubuntu1)\n",
            "  configuration: --prefix=/usr --extra-version=0ubuntu0.22.04.1 --toolchain=hardened --libdir=/usr/lib/x86_64-linux-gnu --incdir=/usr/include/x86_64-linux-gnu --arch=amd64 --enable-gpl --disable-stripping --enable-gnutls --enable-ladspa --enable-libaom --enable-libass --enable-libbluray --enable-libbs2b --enable-libcaca --enable-libcdio --enable-libcodec2 --enable-libdav1d --enable-libflite --enable-libfontconfig --enable-libfreetype --enable-libfribidi --enable-libgme --enable-libgsm --enable-libjack --enable-libmp3lame --enable-libmysofa --enable-libopenjpeg --enable-libopenmpt --enable-libopus --enable-libpulse --enable-librabbitmq --enable-librubberband --enable-libshine --enable-libsnappy --enable-libsoxr --enable-libspeex --enable-libsrt --enable-libssh --enable-libtheora --enable-libtwolame --enable-libvidstab --enable-libvorbis --enable-libvpx --enable-libwebp --enable-libx265 --enable-libxml2 --enable-libxvid --enable-libzimg --enable-libzmq --enable-libzvbi --enable-lv2 --enable-omx --enable-openal --enable-opencl --enable-opengl --enable-sdl2 --enable-pocketsphinx --enable-librsvg --enable-libmfx --enable-libdc1394 --enable-libdrm --enable-libiec61883 --enable-chromaprint --enable-frei0r --enable-libx264 --enable-shared\n",
            "  libavutil      56. 70.100 / 56. 70.100\n",
            "  libavcodec     58.134.100 / 58.134.100\n",
            "  libavformat    58. 76.100 / 58. 76.100\n",
            "  libavdevice    58. 13.100 / 58. 13.100\n",
            "  libavfilter     7.110.100 /  7.110.100\n",
            "  libswscale      5.  9.100 /  5.  9.100\n",
            "  libswresample   3.  9.100 /  3.  9.100\n",
            "  libpostproc    55.  9.100 / 55.  9.100\n",
            "Input #0, matroska,webm, from 'video.mp4':\n",
            "  Metadata:\n",
            "    encoder         : google/video-file\n",
            "  Duration: 00:03:38.92, start: 0.000000, bitrate: 788 kb/s\n",
            "  Stream #0:0(eng): Video: vp9 (Profile 0), yuv420p(tv, bt709), 1280x720, SAR 1:1 DAR 16:9, 24 fps, 24 tbr, 1k tbn, 1k tbc (default)\n",
            "Stream mapping:\n",
            "  Stream #0:0 -> #0:0 (vp9 (native) -> png (native))\n",
            "Press [q] to stop, [?] for help\n",
            "Output #0, image2, to './screenshots/screenshot_%04d.png':\n",
            "  Metadata:\n",
            "    encoder         : Lavf58.76.100\n",
            "  Stream #0:0(eng): Video: png, rgb24(pc, gbr/bt709/bt709, progressive), 1280x720 [SAR 1:1 DAR 16:9], q=2-31, 200 kb/s, 1 fps, 1 tbn (default)\n",
            "    Metadata:\n",
            "      encoder         : Lavc58.134.100 png\n",
            "frame=  219 fps= 49 q=-0.0 Lsize=N/A time=00:03:39.00 bitrate=N/A speed=48.8x    \n",
            "video:250205kB audio:0kB subtitle:0kB other streams:0kB global headers:0kB muxing overhead: unknown\n"
          ]
        }
      ],
      "source": [
        "import subprocess\n",
        "import os\n",
        "\n",
        "def take_screenshots(video_path, output_folder, interval=1):\n",
        "    if not os.path.exists(output_folder):\n",
        "        os.makedirs(output_folder)\n",
        "    print(\"Hello\")\n",
        "    output_pattern = os.path.join(output_folder, 'screenshot_%04d.png')\n",
        "\n",
        "    # Run ffmpeg command to capture screenshots\n",
        "    command = [\n",
        "        'ffmpeg',\n",
        "        '-i', video_path,\n",
        "        '-vf', 'fps=1',\n",
        "        '-q:v', '2',  # Set the quality (lower is better)\n",
        "        output_pattern\n",
        "    ]\n",
        "\n",
        "    subprocess.run(command)\n",
        "\n",
        "# Example usage:\n",
        "video_path = 'video.mp4'\n",
        "output_folder = './screenshots/'\n",
        "\n",
        "take_screenshots(video_path, output_folder)\n"
      ]
    },
    {
      "cell_type": "code",
      "execution_count": null,
      "metadata": {},
      "outputs": [],
      "source": []
    }
  ],
  "metadata": {
    "colab": {
      "provenance": []
    },
    "kernelspec": {
      "display_name": "Python 3",
      "name": "python3"
    },
    "language_info": {
      "codemirror_mode": {
        "name": "ipython",
        "version": 3
      },
      "file_extension": ".py",
      "mimetype": "text/x-python",
      "name": "python",
      "nbconvert_exporter": "python",
      "pygments_lexer": "ipython3",
      "version": "3.10.12"
    }
  },
  "nbformat": 4,
  "nbformat_minor": 0
}
